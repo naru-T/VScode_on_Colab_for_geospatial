{
  "nbformat": 4,
  "nbformat_minor": 0,
  "metadata": {
    "colab": {
      "name": "VScode-server.ipynb",
      "provenance": [],
      "collapsed_sections": [],
      "include_colab_link": true
    },
    "kernelspec": {
      "name": "python3",
      "display_name": "Python 3"
    }
  },
  "cells": [
    {
      "cell_type": "markdown",
      "metadata": {
        "id": "view-in-github",
        "colab_type": "text"
      },
      "source": [
        "<a href=\"https://colab.research.google.com/github/naru-T/VScode_on_Colab_for_geospatial/blob/master/VScode_server.ipynb\" target=\"_parent\"><img src=\"https://colab.research.google.com/assets/colab-badge.svg\" alt=\"Open In Colab\"/></a>"
      ]
    },
    {
      "cell_type": "markdown",
      "metadata": {
        "id": "eVcRNKRTy9Q4"
      },
      "source": [
        "### This notebook is for launching vscode-server on google colaboratory"
      ]
    },
    {
      "cell_type": "markdown",
      "metadata": {
        "id": "6q0qq8okaXVk"
      },
      "source": [
        "written by @naru-T \\\\\n",
        "18 December 2020"
      ]
    },
    {
      "cell_type": "markdown",
      "metadata": {
        "id": "9OtlVbfMquzx"
      },
      "source": [
        "This notebook modified codes from https://memo.chezo.uno/Google-Colaboratory-VS-Code-code-server-3b0f4ae8181c49ecac0c99f6e4017133  for spatial analyses in R"
      ]
    },
    {
      "cell_type": "code",
      "metadata": {
        "id": "dkiKFfvQGKIp"
      },
      "source": [
        "from getpass import getpass"
      ],
      "execution_count": 1,
      "outputs": []
    },
    {
      "cell_type": "code",
      "metadata": {
        "id": "muXsa6ps13ZB"
      },
      "source": [
        "%%capture\n",
        "!apt update\n",
        "!apt upgrade\n",
        "!apt-get install --yes git ssh python3-venv\n",
        "!npm install -g localtunnel\n",
        "\n",
        "##code-server\n",
        "! curl -fsSL https://code-server.dev/install.sh | sh > /dev/null\n"
      ],
      "execution_count": 2,
      "outputs": []
    },
    {
      "cell_type": "code",
      "metadata": {
        "id": "fKOSzq09si-n"
      },
      "source": [
        "\n",
        "#for geospatial if necessary\n",
        "!apt-get install gdal-bin python-gdal python3-gdal libgdal-dev\n",
        "!apt-get install libproj-dev proj-data proj-bin\n",
        "!apt-get install libgeos-dev\n",
        "!apt-get install libudunits2-dev libv8-dev libxml2 libxml2-dev\n",
        "\n",
        "!pip3 install geopandas\n",
        "!pip install cython\n",
        "!pip install cartopy\n",
        "!pip3 install contextily # installs the latest released version (v0.99.0)\n",
        "!pip install folium\n",
        "!pip install fiona\n",
        "!pip install rasterio\n",
        "!pip install mplleaflet\n"
      ],
      "execution_count": 3,
      "outputs": []
    },
    {
      "cell_type": "markdown",
      "metadata": {
        "id": "EfaNWF3Mwezj"
      },
      "source": [
        "# 3. Launch VScode server with localtunnel"
      ]
    },
    {
      "cell_type": "code",
      "metadata": {
        "id": "cYsGG5ocHeJE",
        "cellView": "form"
      },
      "source": [
        "#@title This hidden cell can run if setting files are stored in googledrive, but it makes IO slow and thus VSserver gets unstable.\n",
        "from google.colab import drive\n",
        "drive.mount('/googledrive')\n",
        "! mkdir -p /googledrive/My\\ Drive/colabdrive\n",
        "! mkdir -p /googledrive/My\\ Drive/colabdrive/root/.local/share/code-server\n",
        "! ln -s /googledrive/My\\ Drive/colabdrive /\n",
        "! ln -s /googledrive/My\\ Drive/colabdrive/root/.local/share/code-server /root/.local/share/"
      ],
      "execution_count": null,
      "outputs": []
    },
    {
      "cell_type": "code",
      "metadata": {
        "id": "vbvgpIBsPvu3",
        "colab": {
          "base_uri": "https://localhost:8080/"
        },
        "outputId": "b5bbf820-1018-418f-f987-5574acb4425f"
      },
      "source": [
        "code_server_pass = getpass(\"Input code-server password\")"
      ],
      "execution_count": 3,
      "outputs": [
        {
          "output_type": "stream",
          "text": [
            "Input code-server password··········\n"
          ],
          "name": "stdout"
        }
      ]
    },
    {
      "cell_type": "code",
      "metadata": {
        "id": "d5obxTLSHfuc",
        "colab": {
          "base_uri": "https://localhost:8080/"
        },
        "outputId": "c68ec3e6-21b7-4337-d2af-17a40be41f88"
      },
      "source": [
        "! PASSWORD=$code_server_pass code-server --bind-addr 127.0.0.1:8888 --auth password & lt --port 8888"
      ],
      "execution_count": null,
      "outputs": [
        {
          "output_type": "stream",
          "text": [
            "your url is: https://tasty-goose-89.loca.lt\n",
            "[2020-12-18T03:22:24.505Z] info  code-server 3.7.4 11f53784c58f68e7f4c5b3b8dae9407caa41725b\n",
            "[2020-12-18T03:22:24.509Z] info  Using user-data-dir ~/.local/share/code-server\n",
            "[2020-12-18T03:22:24.524Z] info  Using config file ~/.config/code-server/config.yaml\n",
            "[2020-12-18T03:22:24.525Z] info  HTTP server listening on http://127.0.0.1:8888 \n",
            "[2020-12-18T03:22:24.525Z] info    - Authentication is enabled\n",
            "[2020-12-18T03:22:24.526Z] info      - Using password from $PASSWORD\n",
            "[2020-12-18T03:22:24.526Z] info    - Not serving HTTPS\n"
          ],
          "name": "stdout"
        }
      ]
    },
    {
      "cell_type": "code",
      "metadata": {
        "id": "6l4a35K03q6F"
      },
      "source": [
        ""
      ],
      "execution_count": null,
      "outputs": []
    }
  ]
}