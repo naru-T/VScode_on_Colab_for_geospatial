{
  "nbformat": 4,
  "nbformat_minor": 0,
  "metadata": {
    "colab": {
      "name": "VScode-server.ipynb",
      "provenance": [],
      "collapsed_sections": [],
      "include_colab_link": true
    },
    "kernelspec": {
      "name": "python3",
      "display_name": "Python 3"
    }
  },
  "cells": [
    {
      "cell_type": "markdown",
      "metadata": {
        "id": "view-in-github",
        "colab_type": "text"
      },
      "source": [
        "<a href=\"https://colab.research.google.com/github/naru-T/VScode_on_Colab_for_geospatial/blob/master/VScode_server.ipynb\" target=\"_parent\"><img src=\"https://colab.research.google.com/assets/colab-badge.svg\" alt=\"Open In Colab\"/></a>"
      ]
    },
    {
      "cell_type": "markdown",
      "metadata": {
        "id": "eVcRNKRTy9Q4",
        "colab_type": "text"
      },
      "source": [
        "### This notebook is for launching vscode-server on google colaboratory"
      ]
    },
    {
      "cell_type": "markdown",
      "metadata": {
        "id": "6q0qq8okaXVk",
        "colab_type": "text"
      },
      "source": [
        "written by @naru-T \\\\\n",
        "22 July 2020"
      ]
    },
    {
      "cell_type": "markdown",
      "metadata": {
        "id": "9OtlVbfMquzx",
        "colab_type": "text"
      },
      "source": [
        "This notebook modified codes from https://memo.chezo.uno/Google-Colaboratory-VS-Code-code-server-3b0f4ae8181c49ecac0c99f6e4017133  for spatial analyses in R"
      ]
    },
    {
      "cell_type": "code",
      "metadata": {
        "id": "dkiKFfvQGKIp",
        "colab_type": "code",
        "colab": {
          "base_uri": "https://localhost:8080/",
          "height": 34
        },
        "outputId": "fef27edf-3ddb-4084-dccc-1bb1afe4f838"
      },
      "source": [
        "from getpass import getpass\n",
        "\n",
        "# Don't forget create your account of ngrok and get token from https://dashboard.ngrok.com/auth/your-authtoken\n",
        "authtoken = getpass(\"Input your Auth token\")"
      ],
      "execution_count": null,
      "outputs": [
        {
          "output_type": "stream",
          "text": [
            "Input your Auth token··········\n"
          ],
          "name": "stdout"
        }
      ]
    },
    {
      "cell_type": "code",
      "metadata": {
        "id": "muXsa6ps13ZB",
        "colab_type": "code",
        "colab": {}
      },
      "source": [
        "%%capture\n",
        "!apt update\n",
        "!apt upgrade\n",
        "!apt-get install --yes git ssh python3-venv\n",
        "!apt-get install gdal-bin python-gdal python3-gdal libgdal-dev\n",
        "!apt-get install libproj-dev proj-data proj-bin\n",
        "!apt-get install libgeos-dev\n",
        "!apt-get install libudunits2-dev libv8-dev libxml2 libxml2-dev\n",
        "\n",
        "!pip3 install geopandas\n",
        "!pip install cython\n",
        "!pip install cartopy\n",
        "!pip3 install contextily # installs the latest released version (v0.99.0)\n",
        "!pip install folium\n",
        "!pip install fiona\n",
        "!pip install rasterio\n",
        "!pip install mplleaflet\n"
      ],
      "execution_count": null,
      "outputs": []
    },
    {
      "cell_type": "code",
      "metadata": {
        "id": "fKOSzq09si-n",
        "colab_type": "code",
        "colab": {
          "base_uri": "https://localhost:8080/",
          "height": 34
        },
        "outputId": "5b38a24a-9bbd-4369-962f-974558725a16"
      },
      "source": [
        "\n",
        "# Download ngrok\n",
        "! wget -q -c -nc https://bin.equinox.io/c/4VmDzA7iaHb/ngrok-stable-linux-amd64.zip\n",
        "! unzip -qq -n ngrok-stable-linux-amd64.zip\n",
        "\n",
        "##code-server\n",
        "! curl -fsSL https://code-server.dev/install.sh | sh > /dev/null"
      ],
      "execution_count": null,
      "outputs": [
        {
          "output_type": "stream",
          "text": [
            "######################################################################## 100.0%\n"
          ],
          "name": "stdout"
        }
      ]
    },
    {
      "cell_type": "code",
      "metadata": {
        "id": "cYsGG5ocHeJE",
        "colab_type": "code",
        "colab": {
          "base_uri": "https://localhost:8080/",
          "height": 122
        },
        "outputId": "f67238ba-3bf4-475e-c0ce-1331818f0d5f"
      },
      "source": [
        "from google.colab import drive\n",
        "drive.mount('/googledrive')\n",
        "! mkdir -p /googledrive/My\\ Drive/colabdrive\n",
        "! mkdir -p /googledrive/My\\ Drive/colabdrive/root/.local/share/code-server\n",
        "! ln -s /googledrive/My\\ Drive/colabdrive /\n",
        "! ln -s /googledrive/My\\ Drive/colabdrive/root/.local/share/code-server /root/.local/share/"
      ],
      "execution_count": null,
      "outputs": [
        {
          "output_type": "stream",
          "text": [
            "Go to this URL in a browser: https://accounts.google.com/o/oauth2/auth?client_id=947318989803-6bn6qk8qdgf4n4g3pfee6491hc0brc4i.apps.googleusercontent.com&redirect_uri=urn%3aietf%3awg%3aoauth%3a2.0%3aoob&response_type=code&scope=email%20https%3a%2f%2fwww.googleapis.com%2fauth%2fdocs.test%20https%3a%2f%2fwww.googleapis.com%2fauth%2fdrive%20https%3a%2f%2fwww.googleapis.com%2fauth%2fdrive.photos.readonly%20https%3a%2f%2fwww.googleapis.com%2fauth%2fpeopleapi.readonly\n",
            "\n",
            "Enter your authorization code:\n",
            "··········\n",
            "Mounted at /googledrive\n"
          ],
          "name": "stdout"
        }
      ]
    },
    {
      "cell_type": "code",
      "metadata": {
        "id": "LuQjovjxFPLC",
        "colab_type": "code",
        "colab": {
          "base_uri": "https://localhost:8080/",
          "height": 34
        },
        "outputId": "fe7c8ed9-2f9f-4b9b-8cd3-920b47d47eac"
      },
      "source": [
        "# Run ngrok\n",
        "get_ipython().system_raw('./ngrok authtoken $authtoken && ./ngrok http 8888 &')\n",
        "! sleep 3\n",
        "\n",
        "# Get the address for code-server\n",
        "import requests\n",
        "from re import sub\n",
        "r = requests.get('http://localhost:4040/api/tunnels')\n",
        "str_ssh = r.json()['tunnels'][0]['public_url']\n",
        "print(str_ssh)"
      ],
      "execution_count": null,
      "outputs": [
        {
          "output_type": "stream",
          "text": [
            "https://7b11c980b4f1.ngrok.io\n"
          ],
          "name": "stdout"
        }
      ]
    },
    {
      "cell_type": "code",
      "metadata": {
        "id": "vbvgpIBsPvu3",
        "colab_type": "code",
        "colab": {
          "base_uri": "https://localhost:8080/",
          "height": 34
        },
        "outputId": "8eeae8ca-e2f7-426f-ed3b-661c8f57bd00"
      },
      "source": [
        "code_server_pass = getpass(\"Input code-server password\")"
      ],
      "execution_count": null,
      "outputs": [
        {
          "output_type": "stream",
          "text": [
            "Input code-server password··········\n"
          ],
          "name": "stdout"
        }
      ]
    },
    {
      "cell_type": "code",
      "metadata": {
        "id": "d5obxTLSHfuc",
        "colab_type": "code",
        "colab": {
          "base_uri": "https://localhost:8080/",
          "height": 250
        },
        "outputId": "5ebcabd0-aa90-4859-dfce-902549071e62"
      },
      "source": [
        "! PASSWORD=$code_server_pass code-server --bind-addr 127.0.0.1:8888 --auth password &"
      ],
      "execution_count": null,
      "outputs": [
        {
          "output_type": "stream",
          "text": [
            "\u001b[38;2;0;143;191minfo  \u001b[0mWrote default config file to ~/.config/code-server/config.yaml\u001b[0m\n",
            "\u001b[38;2;0;143;191minfo  \u001b[0mUsing config file ~/.config/code-server/config.yaml\u001b[0m\n",
            "\u001b[38;2;0;143;191minfo  \u001b[0mUsing user-data-dir ~/.local/share/code-server\u001b[0m\n",
            "\u001b[38;2;0;143;191minfo  \u001b[0mcode-server 3.4.1 48f7c2724827e526eeaa6c2c151c520f48a61259\u001b[0m\n",
            "\u001b[38;2;0;143;191minfo  \u001b[0mHTTP server listening on http://127.0.0.1:8888\u001b[0m\n",
            "\u001b[38;2;0;143;191minfo  \u001b[0m    - Using password from $PASSWORD\u001b[0m\n",
            "\u001b[38;2;0;143;191minfo  \u001b[0m    - To disable use `--auth none`\u001b[0m\n",
            "\u001b[38;2;0;143;191minfo  \u001b[0m  - Not serving HTTPS\u001b[0m\n",
            "\u001b[38;2;255;157;0mwarn  \u001b[0m\u001b[38;2;120;239;233mvscode \u001b[0mUnable to retrieve mac address (Error: Command failed: /sbin/ifconfig -a || /sbin/ip link\n",
            "/bin/sh: 1: /sbin/ifconfig: not found\n",
            "/bin/sh: 1: /sbin/ip: not found\n",
            ")\u001b[0m\n"
          ],
          "name": "stdout"
        }
      ]
    },
    {
      "cell_type": "code",
      "metadata": {
        "id": "zW0tTs_Z6p7b",
        "colab_type": "code",
        "colab": {}
      },
      "source": [
        ""
      ],
      "execution_count": null,
      "outputs": []
    }
  ]
}